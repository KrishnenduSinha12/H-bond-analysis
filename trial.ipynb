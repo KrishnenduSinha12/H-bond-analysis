{
 "cells": [
  {
   "cell_type": "code",
   "execution_count": 380,
   "id": "eb9e5481-626e-4742-84e6-51964f2770e4",
   "metadata": {},
   "outputs": [],
   "source": [
    "import numpy as np\n",
    "import matplotlib.pyplot as plt\n",
    "import os, subprocess\n",
    "import glob\n",
    "import pandas as pd\n",
    "import shutil"
   ]
  },
  {
   "cell_type": "code",
   "execution_count": 510,
   "id": "f4519705-dab5-42a6-b279-e61e9dddf88e",
   "metadata": {},
   "outputs": [
    {
     "name": "stdout",
     "output_type": "stream",
     "text": [
      "/usr/local/lib/vmd/plugins/noarch/tcl/hbonds1.2/hbonds.tcl\n",
      "\n"
     ]
    }
   ],
   "source": [
    "process = subprocess.Popen(\"/usr/bin/locate hbonds.tcl\",shell=True,stdin=None,stdout=subprocess.PIPE,stderr=subprocess.PIPE)\n",
    "result=process.stdout.readlines()\n",
    "TCL_Path=result[1].decode(\"utf-8\")\n",
    "print(TCL_Path)"
   ]
  },
  {
   "cell_type": "code",
   "execution_count": 486,
   "id": "3663328c-6b8d-4e4c-afc0-d0966b70a610",
   "metadata": {},
   "outputs": [
    {
     "data": {
      "text/plain": [
       "\u001b[0;31mSignature:\u001b[0m \u001b[0msubprocess\u001b[0m\u001b[0;34m.\u001b[0m\u001b[0mcall\u001b[0m\u001b[0;34m(\u001b[0m\u001b[0;34m*\u001b[0m\u001b[0mpopenargs\u001b[0m\u001b[0;34m,\u001b[0m \u001b[0mtimeout\u001b[0m\u001b[0;34m=\u001b[0m\u001b[0;32mNone\u001b[0m\u001b[0;34m,\u001b[0m \u001b[0;34m**\u001b[0m\u001b[0mkwargs\u001b[0m\u001b[0;34m)\u001b[0m\u001b[0;34m\u001b[0m\u001b[0;34m\u001b[0m\u001b[0m\n",
       "\u001b[0;31mDocstring:\u001b[0m\n",
       "Run command with arguments.  Wait for command to complete or\n",
       "timeout, then return the returncode attribute.\n",
       "\n",
       "The arguments are the same as for the Popen constructor.  Example:\n",
       "\n",
       "retcode = call([\"ls\", \"-l\"])\n",
       "\u001b[0;31mFile:\u001b[0m      ~/anaconda3/lib/python3.9/subprocess.py\n",
       "\u001b[0;31mType:\u001b[0m      function\n"
      ]
     },
     "metadata": {},
     "output_type": "display_data"
    }
   ],
   "source": [
    "subprocess.call?"
   ]
  },
  {
   "cell_type": "code",
   "execution_count": 479,
   "id": "246a1364-eff9-442b-a6d7-b233b2fac619",
   "metadata": {},
   "outputs": [
    {
     "data": {
      "text/plain": [
       "0"
      ]
     },
     "execution_count": 479,
     "metadata": {},
     "output_type": "execute_result"
    }
   ],
   "source": [
    "arr"
   ]
  },
  {
   "cell_type": "code",
   "execution_count": 477,
   "id": "cf11478f-fb32-41be-8a97-b1ef2fb08a23",
   "metadata": {},
   "outputs": [
    {
     "data": {
      "text/plain": [
       "'/usr/local/bin/vmd'"
      ]
     },
     "execution_count": 477,
     "metadata": {},
     "output_type": "execute_result"
    }
   ],
   "source": [
    "VMD=shutil.which('vmd')\n",
    "VMD"
   ]
  },
  {
   "cell_type": "code",
   "execution_count": 381,
   "id": "5bd64062-7dfe-496f-b5f7-ca4cc7bf76a9",
   "metadata": {},
   "outputs": [
    {
     "name": "stdout",
     "output_type": "stream",
     "text": [
      "['system1/protein.pdb', 'system2/protein.pdb', 'system3/protein.pdb', 'system4/protein.pdb', 'system5/protein.pdb', 'system6/protein.pdb', 'system7/protein.pdb', 'system8/protein.pdb']\n"
     ]
    }
   ],
   "source": [
    "F=glob.glob(\"system*\")\n",
    "F.sort()\n",
    "XTCS=glob.glob(\"system*/*.xtc\")\n",
    "XTCS.sort()\n",
    "PDBfiles=glob.glob(\"system*/*.pdb\")\n",
    "PDBfiles.sort()"
   ]
  },
  {
   "cell_type": "code",
   "execution_count": 532,
   "id": "56e5ed46-447d-43f0-97cb-bb4e2cac9bcf",
   "metadata": {},
   "outputs": [
    {
     "name": "stdout",
     "output_type": "stream",
     "text": [
      "Performing the H-bonding using VMD\n",
      "system1\n",
      "Info) VMD for LINUXAMD64, version 1.9.3 (November 30, 2016)\n",
      "Info) http://www.ks.uiuc.edu/Research/vmd/                         \n",
      "Info) Email questions and bug reports to vmd@ks.uiuc.edu           \n",
      "Info) Please include this reference in published work using VMD:   \n",
      "Info)    Humphrey, W., Dalke, A. and Schulten, K., `VMD - Visual   \n",
      "Info)    Molecular Dynamics', J. Molec. Graphics 1996, 14.1, 33-38.\n",
      "Info) -------------------------------------------------------------\n",
      "Info) Multithreading available, 8 CPUs detected.\n",
      "Info)   CPU features: SSE2 AVX \n",
      "Info) Free system memory: 27GB (85%)\n",
      "Info) No CUDA accelerator devices available.\n",
      "Info) Dynamically loaded 2 plugins in directory:\n",
      "Info) /usr/local/lib/vmd/plugins/LINUXAMD64/molfile\n",
      "Info) File loading in progress, please wait.\n",
      "Info) Using plugin pdb for structure file system1/protein.pdb\n",
      "Info) Using plugin pdb for coordinates from file system1/protein.pdb\n",
      "Info) Determining bond structure from distance search ...\n",
      "Info) Finished with coordinate file system1/protein.pdb.\n",
      "Info) Analyzing structure ...\n",
      "Info)    Atoms: 6988\n",
      "Info)    Bonds: 7065\n",
      "Info)    Angles: 0  Dihedrals: 0  Impropers: 0  Cross-terms: 0\n",
      "Info)    Bondtypes: 0  Angletypes: 0  Dihedraltypes: 0  Impropertypes: 0\n",
      "Info)    Residues: 440\n",
      "Info)    Waters: 0\n",
      "Info)    Segments: 1\n",
      "Info)    Fragments: 1   Protein: 1   Nucleic: 0\n",
      "/usr/local/share/epock/plugins/vmd /usr/local/lib/vmd/scripts/tcl8.5 /usr/local/lib/vmd/scripts /usr/local/lib/lib /Projects/johns/tcl/8.5.6/lib_LINUXAMD64/lib /usr/local/lib/vmd/scripts/vmd /usr/local/lib/vmd/plugins/LINUXAMD64/tcl /usr/local/lib/vmd/plugins/noarch/tcl\n",
      "The epock package could not be loaded:\n",
      "\n",
      "Info) Using plugin xtc for coordinates from file system1/protein_fit_0000_1000.xtc\n"
     ]
    },
    {
     "name": "stderr",
     "output_type": "stream",
     "text": [
      "/usr/local/lib/vmd/vmd_LINUXAMD64: /lib/x86_64-linux-gnu/libGL.so.1: no version information available (required by /usr/local/lib/vmd/vmd_LINUXAMD64)\n"
     ]
    },
    {
     "name": "stdout",
     "output_type": "stream",
     "text": [
      "Info) Finished with coordinate file system1/protein_fit_0000_1000.xtc.\n",
      "0\n",
      "atomselect0\n",
      "atomselect1\n",
      "H-Bonds Plugin, Version 1.1\n",
      "Mon Aug 15 15:26:40 IST 2022\n",
      "\n",
      "Parameters used in the calculation of hydrogen bonds:\n",
      "- Atomselection 1: protein\n",
      "- Update selections every frame: yes\n",
      "- Initial frame: 0\n",
      "- Frame step: 1\n",
      "- Final frame: 817\n",
      "- Donor-Acceptor distance: 3.0\n",
      "- Angle cutoff: 20\n",
      "- Type: pair\n",
      "- Write a file with H bond/frame data: yes\n",
      "- Filename: system1/hbonds.dat\n",
      "- Details output file: system1/hbonds-details.dat\n",
      "\n",
      "Printing frame/hbond data to file... Done.\n",
      "Info) VMD for LINUXAMD64, version 1.9.3 (November 30, 2016)\n",
      "Info) Exiting normally.\n",
      "system2\n",
      "Info) VMD for LINUXAMD64, version 1.9.3 (November 30, 2016)\n",
      "Info) http://www.ks.uiuc.edu/Research/vmd/                         \n",
      "Info) Email questions and bug reports to vmd@ks.uiuc.edu           \n",
      "Info) Please include this reference in published work using VMD:   \n",
      "Info)    Humphrey, W., Dalke, A. and Schulten, K., `VMD - Visual   \n",
      "Info)    Molecular Dynamics', J. Molec. Graphics 1996, 14.1, 33-38.\n",
      "Info) -------------------------------------------------------------\n",
      "Info) Multithreading available, 8 CPUs detected.\n",
      "Info)   CPU features: SSE2 AVX \n",
      "Info) Free system memory: 27GB (85%)\n",
      "Info) No CUDA accelerator devices available.\n",
      "Info) Dynamically loaded 2 plugins in directory:\n",
      "Info) /usr/local/lib/vmd/plugins/LINUXAMD64/molfile\n",
      "Info) File loading in progress, please wait.\n",
      "Info) Using plugin pdb for structure file system2/protein.pdb\n",
      "Info) Using plugin pdb for coordinates from file system2/protein.pdb\n",
      "Info) Determining bond structure from distance search ...\n",
      "Info) Finished with coordinate file system2/protein.pdb.\n",
      "Info) Analyzing structure ...\n",
      "Info)    Atoms: 6987\n",
      "Info)    Bonds: 7065\n",
      "Info)    Angles: 0  Dihedrals: 0  Impropers: 0  Cross-terms: 0\n",
      "Info)    Bondtypes: 0  Angletypes: 0  Dihedraltypes: 0  Impropertypes: 0\n",
      "Info)    Residues: 440\n",
      "Info)    Waters: 0\n",
      "Info)    Segments: 1\n",
      "Info)    Fragments: 1   Protein: 1   Nucleic: 0\n",
      "/usr/local/share/epock/plugins/vmd /usr/local/lib/vmd/scripts/tcl8.5 /usr/local/lib/vmd/scripts /usr/local/lib/lib /Projects/johns/tcl/8.5.6/lib_LINUXAMD64/lib /usr/local/lib/vmd/scripts/vmd /usr/local/lib/vmd/plugins/LINUXAMD64/tcl /usr/local/lib/vmd/plugins/noarch/tcl\n",
      "The epock package could not be loaded:\n",
      "\n",
      "Info) Using plugin xtc for coordinates from file system2/protein_fit_0000_1000.xtc\n"
     ]
    },
    {
     "name": "stderr",
     "output_type": "stream",
     "text": [
      "/usr/local/lib/vmd/vmd_LINUXAMD64: /lib/x86_64-linux-gnu/libGL.so.1: no version information available (required by /usr/local/lib/vmd/vmd_LINUXAMD64)\n"
     ]
    },
    {
     "name": "stdout",
     "output_type": "stream",
     "text": [
      "Info) Finished with coordinate file system2/protein_fit_0000_1000.xtc.\n",
      "0\n",
      "atomselect0\n",
      "atomselect1\n",
      "H-Bonds Plugin, Version 1.1\n",
      "Mon Aug 15 15:26:56 IST 2022\n",
      "\n",
      "Parameters used in the calculation of hydrogen bonds:\n",
      "- Atomselection 1: protein\n",
      "- Update selections every frame: yes\n",
      "- Initial frame: 0\n",
      "- Frame step: 1\n",
      "- Final frame: 1000\n",
      "- Donor-Acceptor distance: 3.0\n",
      "- Angle cutoff: 20\n",
      "- Type: pair\n",
      "- Write a file with H bond/frame data: yes\n",
      "- Filename: system2/hbonds.dat\n",
      "- Details output file: system2/hbonds-details.dat\n",
      "\n",
      "Printing frame/hbond data to file... Done.\n",
      "Info) VMD for LINUXAMD64, version 1.9.3 (November 30, 2016)\n",
      "Info) Exiting normally.\n",
      "system3\n",
      "Info) VMD for LINUXAMD64, version 1.9.3 (November 30, 2016)\n",
      "Info) http://www.ks.uiuc.edu/Research/vmd/                         \n",
      "Info) Email questions and bug reports to vmd@ks.uiuc.edu           \n",
      "Info) Please include this reference in published work using VMD:   \n",
      "Info)    Humphrey, W., Dalke, A. and Schulten, K., `VMD - Visual   \n",
      "Info)    Molecular Dynamics', J. Molec. Graphics 1996, 14.1, 33-38.\n",
      "Info) -------------------------------------------------------------\n",
      "Info) Multithreading available, 8 CPUs detected.\n",
      "Info)   CPU features: SSE2 AVX \n",
      "Info) Free system memory: 27GB (85%)\n",
      "Info) No CUDA accelerator devices available.\n",
      "Info) Dynamically loaded 2 plugins in directory:\n",
      "Info) /usr/local/lib/vmd/plugins/LINUXAMD64/molfile\n",
      "Info) File loading in progress, please wait.\n",
      "Info) Using plugin pdb for structure file system3/protein.pdb\n",
      "Info) Using plugin pdb for coordinates from file system3/protein.pdb\n",
      "Info) Determining bond structure from distance search ...\n",
      "Info) Finished with coordinate file system3/protein.pdb.\n",
      "Info) Analyzing structure ...\n",
      "Info)    Atoms: 6988\n",
      "Info)    Bonds: 7065\n",
      "Info)    Angles: 0  Dihedrals: 0  Impropers: 0  Cross-terms: 0\n",
      "Info)    Bondtypes: 0  Angletypes: 0  Dihedraltypes: 0  Impropertypes: 0\n",
      "Info)    Residues: 440\n",
      "Info)    Waters: 0\n",
      "Info)    Segments: 1\n",
      "Info)    Fragments: 1   Protein: 1   Nucleic: 0\n",
      "/usr/local/share/epock/plugins/vmd /usr/local/lib/vmd/scripts/tcl8.5 /usr/local/lib/vmd/scripts /usr/local/lib/lib /Projects/johns/tcl/8.5.6/lib_LINUXAMD64/lib /usr/local/lib/vmd/scripts/vmd /usr/local/lib/vmd/plugins/LINUXAMD64/tcl /usr/local/lib/vmd/plugins/noarch/tcl\n",
      "The epock package could not be loaded:\n",
      "\n",
      "Info) Using plugin xtc for coordinates from file system3/protein_fit_0000_1000.xtc\n"
     ]
    },
    {
     "name": "stderr",
     "output_type": "stream",
     "text": [
      "/usr/local/lib/vmd/vmd_LINUXAMD64: /lib/x86_64-linux-gnu/libGL.so.1: no version information available (required by /usr/local/lib/vmd/vmd_LINUXAMD64)\n"
     ]
    },
    {
     "name": "stdout",
     "output_type": "stream",
     "text": [
      "Info) Finished with coordinate file system3/protein_fit_0000_1000.xtc.\n",
      "0\n",
      "atomselect0\n",
      "atomselect1\n",
      "H-Bonds Plugin, Version 1.1\n",
      "Mon Aug 15 15:27:17 IST 2022\n",
      "\n",
      "Parameters used in the calculation of hydrogen bonds:\n",
      "- Atomselection 1: protein\n",
      "- Update selections every frame: yes\n",
      "- Initial frame: 0\n",
      "- Frame step: 1\n",
      "- Final frame: 817\n",
      "- Donor-Acceptor distance: 3.0\n",
      "- Angle cutoff: 20\n",
      "- Type: pair\n",
      "- Write a file with H bond/frame data: yes\n",
      "- Filename: system3/hbonds.dat\n",
      "- Details output file: system3/hbonds-details.dat\n",
      "\n",
      "Printing frame/hbond data to file... Done.\n",
      "Info) VMD for LINUXAMD64, version 1.9.3 (November 30, 2016)\n",
      "Info) Exiting normally.\n",
      "system4\n",
      "Info) VMD for LINUXAMD64, version 1.9.3 (November 30, 2016)\n",
      "Info) http://www.ks.uiuc.edu/Research/vmd/                         \n",
      "Info) Email questions and bug reports to vmd@ks.uiuc.edu           \n",
      "Info) Please include this reference in published work using VMD:   \n",
      "Info)    Humphrey, W., Dalke, A. and Schulten, K., `VMD - Visual   \n",
      "Info)    Molecular Dynamics', J. Molec. Graphics 1996, 14.1, 33-38.\n",
      "Info) -------------------------------------------------------------\n",
      "Info) Multithreading available, 8 CPUs detected.\n",
      "Info)   CPU features: SSE2 AVX \n",
      "Info) Free system memory: 27GB (85%)\n",
      "Info) No CUDA accelerator devices available.\n",
      "Info) Dynamically loaded 2 plugins in directory:\n",
      "Info) /usr/local/lib/vmd/plugins/LINUXAMD64/molfile\n",
      "Info) File loading in progress, please wait.\n",
      "Info) Using plugin pdb for structure file system4/protein.pdb\n",
      "Info) Using plugin pdb for coordinates from file system4/protein.pdb\n",
      "Info) Determining bond structure from distance search ...\n",
      "Info) Finished with coordinate file system4/protein.pdb.\n",
      "Info) Analyzing structure ...\n",
      "Info)    Atoms: 6987\n",
      "Info)    Bonds: 7065\n",
      "Info)    Angles: 0  Dihedrals: 0  Impropers: 0  Cross-terms: 0\n",
      "Info)    Bondtypes: 0  Angletypes: 0  Dihedraltypes: 0  Impropertypes: 0\n",
      "Info)    Residues: 440\n",
      "Info)    Waters: 0\n",
      "Info)    Segments: 1\n",
      "Info)    Fragments: 1   Protein: 1   Nucleic: 0\n",
      "/usr/local/share/epock/plugins/vmd /usr/local/lib/vmd/scripts/tcl8.5 /usr/local/lib/vmd/scripts /usr/local/lib/lib /Projects/johns/tcl/8.5.6/lib_LINUXAMD64/lib /usr/local/lib/vmd/scripts/vmd /usr/local/lib/vmd/plugins/LINUXAMD64/tcl /usr/local/lib/vmd/plugins/noarch/tcl\n",
      "The epock package could not be loaded:\n",
      "\n",
      "Info) Using plugin xtc for coordinates from file system4/protein_fit_0000_1000.xtc\n"
     ]
    },
    {
     "name": "stderr",
     "output_type": "stream",
     "text": [
      "/usr/local/lib/vmd/vmd_LINUXAMD64: /lib/x86_64-linux-gnu/libGL.so.1: no version information available (required by /usr/local/lib/vmd/vmd_LINUXAMD64)\n"
     ]
    },
    {
     "name": "stdout",
     "output_type": "stream",
     "text": [
      "Info) Finished with coordinate file system4/protein_fit_0000_1000.xtc.\n",
      "0\n",
      "atomselect0\n",
      "atomselect1\n",
      "H-Bonds Plugin, Version 1.1\n",
      "Mon Aug 15 15:27:33 IST 2022\n",
      "\n",
      "Parameters used in the calculation of hydrogen bonds:\n",
      "- Atomselection 1: protein\n",
      "- Update selections every frame: yes\n",
      "- Initial frame: 0\n",
      "- Frame step: 1\n",
      "- Final frame: 1000\n",
      "- Donor-Acceptor distance: 3.0\n",
      "- Angle cutoff: 20\n",
      "- Type: pair\n",
      "- Write a file with H bond/frame data: yes\n",
      "- Filename: system4/hbonds.dat\n",
      "- Details output file: system4/hbonds-details.dat\n",
      "\n",
      "Printing frame/hbond data to file... Done.\n",
      "Info) VMD for LINUXAMD64, version 1.9.3 (November 30, 2016)\n",
      "Info) Exiting normally.\n",
      "system5\n",
      "Info) VMD for LINUXAMD64, version 1.9.3 (November 30, 2016)\n",
      "Info) http://www.ks.uiuc.edu/Research/vmd/                         \n",
      "Info) Email questions and bug reports to vmd@ks.uiuc.edu           \n",
      "Info) Please include this reference in published work using VMD:   \n",
      "Info)    Humphrey, W., Dalke, A. and Schulten, K., `VMD - Visual   \n",
      "Info)    Molecular Dynamics', J. Molec. Graphics 1996, 14.1, 33-38.\n",
      "Info) -------------------------------------------------------------\n",
      "Info) Multithreading available, 8 CPUs detected.\n",
      "Info)   CPU features: SSE2 AVX \n",
      "Info) Free system memory: 27GB (85%)\n",
      "Info) No CUDA accelerator devices available.\n",
      "Info) Dynamically loaded 2 plugins in directory:\n",
      "Info) /usr/local/lib/vmd/plugins/LINUXAMD64/molfile\n",
      "Info) File loading in progress, please wait.\n",
      "Info) Using plugin pdb for structure file system5/protein.pdb\n",
      "Info) Using plugin pdb for coordinates from file system5/protein.pdb\n",
      "Info) Determining bond structure from distance search ...\n",
      "Info) Finished with coordinate file system5/protein.pdb.\n",
      "Info) Analyzing structure ...\n",
      "Info)    Atoms: 6988\n",
      "Info)    Bonds: 7065\n",
      "Info)    Angles: 0  Dihedrals: 0  Impropers: 0  Cross-terms: 0\n",
      "Info)    Bondtypes: 0  Angletypes: 0  Dihedraltypes: 0  Impropertypes: 0\n",
      "Info)    Residues: 440\n",
      "Info)    Waters: 0\n",
      "Info)    Segments: 1\n",
      "Info)    Fragments: 1   Protein: 1   Nucleic: 0\n",
      "/usr/local/share/epock/plugins/vmd /usr/local/lib/vmd/scripts/tcl8.5 /usr/local/lib/vmd/scripts /usr/local/lib/lib /Projects/johns/tcl/8.5.6/lib_LINUXAMD64/lib /usr/local/lib/vmd/scripts/vmd /usr/local/lib/vmd/plugins/LINUXAMD64/tcl /usr/local/lib/vmd/plugins/noarch/tcl\n",
      "The epock package could not be loaded:\n",
      "\n",
      "Info) Using plugin xtc for coordinates from file system5/protein_fit_0000_1000.xtc\n"
     ]
    },
    {
     "name": "stderr",
     "output_type": "stream",
     "text": [
      "/usr/local/lib/vmd/vmd_LINUXAMD64: /lib/x86_64-linux-gnu/libGL.so.1: no version information available (required by /usr/local/lib/vmd/vmd_LINUXAMD64)\n"
     ]
    },
    {
     "name": "stdout",
     "output_type": "stream",
     "text": [
      "Info) Finished with coordinate file system5/protein_fit_0000_1000.xtc.\n",
      "0\n",
      "atomselect0\n",
      "atomselect1\n",
      "H-Bonds Plugin, Version 1.1\n",
      "Mon Aug 15 15:27:53 IST 2022\n",
      "\n",
      "Parameters used in the calculation of hydrogen bonds:\n",
      "- Atomselection 1: protein\n",
      "- Update selections every frame: yes\n",
      "- Initial frame: 0\n",
      "- Frame step: 1\n",
      "- Final frame: 1000\n",
      "- Donor-Acceptor distance: 3.0\n",
      "- Angle cutoff: 20\n",
      "- Type: pair\n",
      "- Write a file with H bond/frame data: yes\n",
      "- Filename: system5/hbonds.dat\n",
      "- Details output file: system5/hbonds-details.dat\n",
      "\n",
      "Printing frame/hbond data to file... Done.\n",
      "Info) VMD for LINUXAMD64, version 1.9.3 (November 30, 2016)\n",
      "Info) Exiting normally.\n",
      "system6\n",
      "Info) VMD for LINUXAMD64, version 1.9.3 (November 30, 2016)\n",
      "Info) http://www.ks.uiuc.edu/Research/vmd/                         \n",
      "Info) Email questions and bug reports to vmd@ks.uiuc.edu           \n",
      "Info) Please include this reference in published work using VMD:   \n",
      "Info)    Humphrey, W., Dalke, A. and Schulten, K., `VMD - Visual   \n",
      "Info)    Molecular Dynamics', J. Molec. Graphics 1996, 14.1, 33-38.\n",
      "Info) -------------------------------------------------------------\n",
      "Info) Multithreading available, 8 CPUs detected.\n",
      "Info)   CPU features: SSE2 AVX \n",
      "Info) Free system memory: 27GB (85%)\n",
      "Info) No CUDA accelerator devices available.\n",
      "Info) Dynamically loaded 2 plugins in directory:\n",
      "Info) /usr/local/lib/vmd/plugins/LINUXAMD64/molfile\n",
      "Info) File loading in progress, please wait.\n",
      "Info) Using plugin pdb for structure file system6/protein.pdb\n",
      "Info) Using plugin pdb for coordinates from file system6/protein.pdb\n",
      "Info) Determining bond structure from distance search ...\n",
      "Info) Finished with coordinate file system6/protein.pdb.\n",
      "Info) Analyzing structure ...\n",
      "Info)    Atoms: 6987\n",
      "Info)    Bonds: 7065\n",
      "Info)    Angles: 0  Dihedrals: 0  Impropers: 0  Cross-terms: 0\n",
      "Info)    Bondtypes: 0  Angletypes: 0  Dihedraltypes: 0  Impropertypes: 0\n",
      "Info)    Residues: 440\n",
      "Info)    Waters: 0\n",
      "Info)    Segments: 1\n",
      "Info)    Fragments: 1   Protein: 1   Nucleic: 0\n",
      "/usr/local/share/epock/plugins/vmd /usr/local/lib/vmd/scripts/tcl8.5 /usr/local/lib/vmd/scripts /usr/local/lib/lib /Projects/johns/tcl/8.5.6/lib_LINUXAMD64/lib /usr/local/lib/vmd/scripts/vmd /usr/local/lib/vmd/plugins/LINUXAMD64/tcl /usr/local/lib/vmd/plugins/noarch/tcl\n",
      "The epock package could not be loaded:\n",
      "\n",
      "Info) Using plugin xtc for coordinates from file system6/protein_fit_0000_1000.xtc\n"
     ]
    },
    {
     "name": "stderr",
     "output_type": "stream",
     "text": [
      "/usr/local/lib/vmd/vmd_LINUXAMD64: /lib/x86_64-linux-gnu/libGL.so.1: no version information available (required by /usr/local/lib/vmd/vmd_LINUXAMD64)\n"
     ]
    },
    {
     "name": "stdout",
     "output_type": "stream",
     "text": [
      "Info) Finished with coordinate file system6/protein_fit_0000_1000.xtc.\n",
      "0\n",
      "atomselect0\n",
      "atomselect1\n",
      "H-Bonds Plugin, Version 1.1\n",
      "Mon Aug 15 15:28:13 IST 2022\n",
      "\n",
      "Parameters used in the calculation of hydrogen bonds:\n",
      "- Atomselection 1: protein\n",
      "- Update selections every frame: yes\n",
      "- Initial frame: 0\n",
      "- Frame step: 1\n",
      "- Final frame: 1000\n",
      "- Donor-Acceptor distance: 3.0\n",
      "- Angle cutoff: 20\n",
      "- Type: pair\n",
      "- Write a file with H bond/frame data: yes\n",
      "- Filename: system6/hbonds.dat\n",
      "- Details output file: system6/hbonds-details.dat\n",
      "\n",
      "Printing frame/hbond data to file... Done.\n",
      "Info) VMD for LINUXAMD64, version 1.9.3 (November 30, 2016)\n",
      "Info) Exiting normally.\n",
      "system7\n",
      "Info) VMD for LINUXAMD64, version 1.9.3 (November 30, 2016)\n",
      "Info) http://www.ks.uiuc.edu/Research/vmd/                         \n",
      "Info) Email questions and bug reports to vmd@ks.uiuc.edu           \n",
      "Info) Please include this reference in published work using VMD:   \n",
      "Info)    Humphrey, W., Dalke, A. and Schulten, K., `VMD - Visual   \n",
      "Info)    Molecular Dynamics', J. Molec. Graphics 1996, 14.1, 33-38.\n",
      "Info) -------------------------------------------------------------\n",
      "Info) Multithreading available, 8 CPUs detected.\n",
      "Info)   CPU features: SSE2 AVX \n",
      "Info) Free system memory: 27GB (85%)\n",
      "Info) No CUDA accelerator devices available.\n",
      "Info) Dynamically loaded 2 plugins in directory:\n",
      "Info) /usr/local/lib/vmd/plugins/LINUXAMD64/molfile\n",
      "Info) File loading in progress, please wait.\n",
      "Info) Using plugin pdb for structure file system7/protein.pdb\n",
      "Info) Using plugin pdb for coordinates from file system7/protein.pdb\n",
      "Info) Determining bond structure from distance search ...\n",
      "Info) Finished with coordinate file system7/protein.pdb.\n",
      "Info) Analyzing structure ...\n",
      "Info)    Atoms: 6988\n",
      "Info)    Bonds: 7065\n",
      "Info)    Angles: 0  Dihedrals: 0  Impropers: 0  Cross-terms: 0\n",
      "Info)    Bondtypes: 0  Angletypes: 0  Dihedraltypes: 0  Impropertypes: 0\n",
      "Info)    Residues: 440\n",
      "Info)    Waters: 0\n",
      "Info)    Segments: 1\n",
      "Info)    Fragments: 1   Protein: 1   Nucleic: 0\n",
      "/usr/local/share/epock/plugins/vmd /usr/local/lib/vmd/scripts/tcl8.5 /usr/local/lib/vmd/scripts /usr/local/lib/lib /Projects/johns/tcl/8.5.6/lib_LINUXAMD64/lib /usr/local/lib/vmd/scripts/vmd /usr/local/lib/vmd/plugins/LINUXAMD64/tcl /usr/local/lib/vmd/plugins/noarch/tcl\n",
      "The epock package could not be loaded:\n",
      "\n",
      "Info) Using plugin xtc for coordinates from file system7/protein_fit_0000_1000.xtc\n"
     ]
    },
    {
     "name": "stderr",
     "output_type": "stream",
     "text": [
      "/usr/local/lib/vmd/vmd_LINUXAMD64: /lib/x86_64-linux-gnu/libGL.so.1: no version information available (required by /usr/local/lib/vmd/vmd_LINUXAMD64)\n"
     ]
    },
    {
     "name": "stdout",
     "output_type": "stream",
     "text": [
      "Info) Finished with coordinate file system7/protein_fit_0000_1000.xtc.\n",
      "0\n",
      "atomselect0\n",
      "atomselect1\n",
      "H-Bonds Plugin, Version 1.1\n",
      "Mon Aug 15 15:28:33 IST 2022\n",
      "\n",
      "Parameters used in the calculation of hydrogen bonds:\n",
      "- Atomselection 1: protein\n",
      "- Update selections every frame: yes\n",
      "- Initial frame: 0\n",
      "- Frame step: 1\n",
      "- Final frame: 1000\n",
      "- Donor-Acceptor distance: 3.0\n",
      "- Angle cutoff: 20\n",
      "- Type: pair\n",
      "- Write a file with H bond/frame data: yes\n",
      "- Filename: system7/hbonds.dat\n",
      "- Details output file: system7/hbonds-details.dat\n",
      "\n",
      "Printing frame/hbond data to file... Done.\n",
      "Info) VMD for LINUXAMD64, version 1.9.3 (November 30, 2016)\n",
      "Info) Exiting normally.\n",
      "system8\n",
      "Info) VMD for LINUXAMD64, version 1.9.3 (November 30, 2016)\n",
      "Info) http://www.ks.uiuc.edu/Research/vmd/                         \n",
      "Info) Email questions and bug reports to vmd@ks.uiuc.edu           \n",
      "Info) Please include this reference in published work using VMD:   \n",
      "Info)    Humphrey, W., Dalke, A. and Schulten, K., `VMD - Visual   \n",
      "Info)    Molecular Dynamics', J. Molec. Graphics 1996, 14.1, 33-38.\n",
      "Info) -------------------------------------------------------------\n",
      "Info) Multithreading available, 8 CPUs detected.\n",
      "Info)   CPU features: SSE2 AVX \n",
      "Info) Free system memory: 27GB (85%)\n",
      "Info) No CUDA accelerator devices available.\n",
      "Info) Dynamically loaded 2 plugins in directory:\n",
      "Info) /usr/local/lib/vmd/plugins/LINUXAMD64/molfile\n",
      "Info) File loading in progress, please wait.\n",
      "Info) Using plugin pdb for structure file system8/protein.pdb\n",
      "Info) Using plugin pdb for coordinates from file system8/protein.pdb\n",
      "Info) Determining bond structure from distance search ...\n",
      "Info) Finished with coordinate file system8/protein.pdb.\n",
      "Info) Analyzing structure ...\n",
      "Info)    Atoms: 6987\n",
      "Info)    Bonds: 7065\n",
      "Info)    Angles: 0  Dihedrals: 0  Impropers: 0  Cross-terms: 0\n",
      "Info)    Bondtypes: 0  Angletypes: 0  Dihedraltypes: 0  Impropertypes: 0\n",
      "Info)    Residues: 440\n",
      "Info)    Waters: 0\n",
      "Info)    Segments: 1\n",
      "Info)    Fragments: 1   Protein: 1   Nucleic: 0\n",
      "/usr/local/share/epock/plugins/vmd /usr/local/lib/vmd/scripts/tcl8.5 /usr/local/lib/vmd/scripts /usr/local/lib/lib /Projects/johns/tcl/8.5.6/lib_LINUXAMD64/lib /usr/local/lib/vmd/scripts/vmd /usr/local/lib/vmd/plugins/LINUXAMD64/tcl /usr/local/lib/vmd/plugins/noarch/tcl\n",
      "The epock package could not be loaded:\n",
      "\n",
      "Info) Using plugin xtc for coordinates from file system8/protein_fit_0000_1000.xtc\n"
     ]
    },
    {
     "name": "stderr",
     "output_type": "stream",
     "text": [
      "/usr/local/lib/vmd/vmd_LINUXAMD64: /lib/x86_64-linux-gnu/libGL.so.1: no version information available (required by /usr/local/lib/vmd/vmd_LINUXAMD64)\n"
     ]
    },
    {
     "name": "stdout",
     "output_type": "stream",
     "text": [
      "Info) Finished with coordinate file system8/protein_fit_0000_1000.xtc.\n",
      "0\n",
      "atomselect0\n",
      "atomselect1\n",
      "H-Bonds Plugin, Version 1.1\n",
      "Mon Aug 15 15:28:53 IST 2022\n",
      "\n",
      "Parameters used in the calculation of hydrogen bonds:\n",
      "- Atomselection 1: protein\n",
      "- Update selections every frame: yes\n",
      "- Initial frame: 0\n",
      "- Frame step: 1\n",
      "- Final frame: 1000\n",
      "- Donor-Acceptor distance: 3.0\n",
      "- Angle cutoff: 20\n",
      "- Type: pair\n",
      "- Write a file with H bond/frame data: yes\n",
      "- Filename: system8/hbonds.dat\n",
      "- Details output file: system8/hbonds-details.dat\n",
      "\n",
      "Printing frame/hbond data to file... Done.\n",
      "Info) VMD for LINUXAMD64, version 1.9.3 (November 30, 2016)\n",
      "Info) Exiting normally.\n"
     ]
    }
   ],
   "source": [
    "initial_frame=1\n",
    "final_frame=-1\n",
    "step=1\n",
    "sel1=\"protein\"\n",
    "sel2=\"none\"\n",
    "polar=\"no\"\n",
    "DA=\"both\"\n",
    "dist=3.0\n",
    "ang=20\n",
    "\n",
    "print(\"Performing the H-bonding using VMD\")\n",
    "for i in range (len(F)):\n",
    "    print(\"system\"+str(i+1))\n",
    "    with open(F[i]+'/input_script.vmd', 'w') as f:\n",
    "        if sel2!=\"none\":\n",
    "            str1=\"mol addfile \"+XTCS[i]+\" first \"+str(initial_frame)+\" last \"+str(final_frame)+\" step \"+str(step)+\" waitfor 2000 \\n\"\n",
    "            str2=\"source \"+TCL_Path+\" \\n set sel1 [atomselect top \"+sel1+\" ] \\n\"\n",
    "            str3=\"hbonds -sel1 $sel1 -sel2 $sel2 -dist \"+str(dist)+\" -ang \"+str(ang)+\" -polar \"+polar+\" -DA \"+DA+\" -writefile yes -plot no -outfile \"+F[i]+\"/hbonds.dat -type pair -detailout \"+F[i]+\"/hbonds-details.dat \\n\"\n",
    "            str4=\"exit\"\n",
    "        else:\n",
    "            str1=\"mol addfile \"+XTCS[i]+\" first \"+str(initial_frame)+\" last \"+str(final_frame)+\" step \"+str(step)+\" waitfor 2000 \\n\"\n",
    "            str2=\"source \" +TCL_Path+\" \\n set sel1 [atomselect top \"+sel1+\" ] \\n set sel2 [atomselect top \"+sel2+\" ] \\n\"\n",
    "            str3=\"hbonds -sel1 $sel1 -dist \"+str(dist)+\" -ang \"+str(ang)+\" -polar \"+polar+\" -DA \"+DA+\" -writefile yes -plot no -outfile \"+F[i]+\"/hbonds.dat -type pair -detailout \"+F[i]+\"/hbonds-details.dat \\n\"\n",
    "            str4=\"exit\"\n",
    "        f.write(str1+str2+str3+str4)\n",
    "        f.close()\n",
    "    subprocess.run(VMD+\" \"+PDBfiles[i]+\" -dispdev none -e \"+F[i]+\"/input_script.vmd\",shell=True)"
   ]
  },
  {
   "cell_type": "code",
   "execution_count": 533,
   "id": "e62a102c-f2c2-4f87-9b98-c9ed4eebab5f",
   "metadata": {},
   "outputs": [],
   "source": [
    "Files=[F[i]+\"/hbonds-details.dat\" for i in range (len(F))]"
   ]
  },
  {
   "cell_type": "code",
   "execution_count": 534,
   "id": "4db1c933-ca25-4e4c-9026-868451f44de7",
   "metadata": {},
   "outputs": [],
   "source": [
    "def find_important_H_bond(file,occupancy=30,start=1,stop=1000):\n",
    "    \n",
    "    f=open(file,\"r\")\n",
    "    p=f.readlines()\n",
    "    ids=[]\n",
    "    o=[]\n",
    "    for i in range (len(p)):\n",
    "        if i >1: \n",
    "            if ((int(p[i].split()[0][3:-5])>start and int(p[i].split()[0][3:-5])<stop) or (int(p[i].split()[1][3:-5])>start and int(p[i].split()[1][3:-5])<stop)) and float(p[i].split()[2][:-1])> occupancy:\n",
    "                d=int(p[i].split()[0][3:-5])\n",
    "                a=int(p[i].split()[1][3:-5])\n",
    "                if d > a:\n",
    "                    ids.append(p[i].split()[1][:-5]+\" \"+p[i].split()[0][:-5])\n",
    "                if a > d:\n",
    "                    ids.append(p[i].split()[0][:-5]+\" \"+p[i].split()[1][:-5])\n",
    "                o.append(float(p[i].split()[2][:-1]))\n",
    "    return o,ids"
   ]
  },
  {
   "cell_type": "code",
   "execution_count": 535,
   "id": "cdd0809c-31ad-44ff-a30a-899ac5eecb32",
   "metadata": {},
   "outputs": [],
   "source": [
    "Pairs=[]\n",
    "unique_pairs=[]\n",
    "Systems=[]\n",
    "for i in range (len(F)):\n",
    "    Systems.append([])\n",
    "    a=find_important_H_bond(Files[i],start=129,stop=161,occupancy=30)\n",
    "    Pairs.append(a)\n",
    "    unique_pairs=unique_pairs+a[1]\n",
    "unique_pairs=np.unique(unique_pairs)"
   ]
  },
  {
   "cell_type": "code",
   "execution_count": 536,
   "id": "b8af7e73-2cc7-4bc6-820b-c446a95db580",
   "metadata": {},
   "outputs": [],
   "source": [
    "def get_unique_occupancy(pairs,array):\n",
    "    occ=np.zeros(len(pairs))\n",
    "    for i in range (len(pairs)):\n",
    "        for j in range (len(array[1])):\n",
    "            if pairs[i]==array[1][j]:  \n",
    "                occ[i]=array[0][j]\n",
    "    return occ"
   ]
  },
  {
   "cell_type": "code",
   "execution_count": 537,
   "id": "d3c75daf-9e7a-4a54-a558-f777e7b972fa",
   "metadata": {},
   "outputs": [],
   "source": [
    "for i in range (len(Pairs)):\n",
    "    Systems[i]=get_unique_occupancy(unique_pairs,Pairs[i])"
   ]
  },
  {
   "cell_type": "code",
   "execution_count": 538,
   "id": "566824ec-75e8-410a-a6f1-91a837a387d6",
   "metadata": {},
   "outputs": [],
   "source": [
    "Resid1=[]\n",
    "Resid2=[]\n",
    "for i in range (len(unique_pairs)):\n",
    "    Resid1.append(unique_pairs[i].split()[0])\n",
    "    Resid2.append(unique_pairs[i].split()[1])"
   ]
  },
  {
   "cell_type": "code",
   "execution_count": 539,
   "id": "22d4eab2-6bdc-492d-b665-132a839ebc73",
   "metadata": {},
   "outputs": [],
   "source": [
    "Resid1=pd.Series(Resid1)\n",
    "Resid2=pd.Series(Resid2)\n",
    "for i in range (len(Systems)):\n",
    "    Systems[i]=pd.Series(Systems[i])"
   ]
  },
  {
   "cell_type": "code",
   "execution_count": 540,
   "id": "07f2e2a6-be16-421f-93ac-5db515c3362d",
   "metadata": {},
   "outputs": [],
   "source": [
    "colname=[\"#Resid1\",\"Resid2\"]\n",
    "for i in range (len(Systems)):\n",
    "    colname.append(\"System\"+str(i+1))\n",
    "rowname=[Resid1,Resid2]\n",
    "for j in range (len(Systems)):\n",
    "    rowname.append(Systems[j])\n",
    "rowname=np.array(rowname)\n",
    "rows=rowname.T"
   ]
  },
  {
   "cell_type": "code",
   "execution_count": 541,
   "id": "20d8359d-11be-4c70-af14-8e9e53268a93",
   "metadata": {},
   "outputs": [
    {
     "name": "stdout",
     "output_type": "stream",
     "text": [
      "   #Resid1  Resid2 System1 System2 System3 System4 System5 System6 System7  \\\n",
      "0   ALA131  ILE136     0.0   32.87     0.0     0.0     0.0     0.0     0.0   \n",
      "1   ALA152  LYS157   31.66     0.0     0.0     0.0     0.0     0.0     0.0   \n",
      "2   ARG124  ASP146     0.0     0.0    43.4   40.96     0.0     0.0     0.0   \n",
      "3   ARG124  GLU143   34.84   33.07   37.16   45.35     0.0     0.0     0.0   \n",
      "4   ARG148  ASP309     0.0     0.0     0.0     0.0     0.0     0.0   49.05   \n",
      "5   ARG148  THR158     0.0     0.0     0.0   58.74     0.0     0.0     0.0   \n",
      "6    ARG74  GLU156     0.0     0.0   31.78     0.0   51.45   52.85   39.36   \n",
      "7    ARG78  GLU156     0.0     0.0     0.0   34.07     0.0     0.0   70.93   \n",
      "8    ARG78  MET140   58.44   31.07     0.0     0.0     0.0     0.0     0.0   \n",
      "9   ASN145  ARG148    36.8     0.0     0.0     0.0     0.0     0.0     0.0   \n",
      "10  ASP146  LYS171   36.92   32.27     0.0     0.0     0.0     0.0     0.0   \n",
      "11   ASP67  GLY153     0.0     0.0   38.26   32.77     0.0     0.0     0.0   \n",
      "12   ASP67  LYS157     0.0     0.0     0.0     0.0   31.27     0.0     0.0   \n",
      "13  GLU126  THR130   61.98   57.04   53.79   54.45   44.16   47.45   56.24   \n",
      "14  GLU144  LYS171   32.52     0.0     0.0     0.0     0.0     0.0     0.0   \n",
      "15  GLU156  ARG188     0.0   35.16     0.0     0.0     0.0     0.0     0.0   \n",
      "16   GLU92  ARG148   53.42   50.05     0.0     0.0     0.0     0.0     0.0   \n",
      "17  LEU138  THR158   52.69   42.16     0.0     0.0     0.0     0.0     0.0   \n",
      "18  LEU160  HIS178     0.0   31.77   40.95   35.06   39.96   34.77   38.96   \n",
      "19   LEU64  SER150   47.92     0.0     0.0     0.0     0.0     0.0     0.0   \n",
      "20  LYS157  ASP332     0.0     0.0   56.36     0.0     0.0     0.0   48.35   \n",
      "21  MET140  ARG188     0.0     0.0     0.0     0.0     0.0     0.0     0.0   \n",
      "22  PRO137  MET140   43.03   45.15     0.0     0.0     0.0     0.0     0.0   \n",
      "23   SER68  GLN155     0.0     0.0     0.0     0.0   58.24     0.0     0.0   \n",
      "24  THR158  ILE180   74.33   71.93   69.07   74.03   70.63   66.83   69.53   \n",
      "25  TYR132  GLU186     0.0   51.55     0.0     0.0     0.0     0.0     0.0   \n",
      "\n",
      "   System8  \n",
      "0      0.0  \n",
      "1      0.0  \n",
      "2      0.0  \n",
      "3      0.0  \n",
      "4      0.0  \n",
      "5      0.0  \n",
      "6    30.27  \n",
      "7    72.13  \n",
      "8      0.0  \n",
      "9      0.0  \n",
      "10     0.0  \n",
      "11     0.0  \n",
      "12     0.0  \n",
      "13   58.14  \n",
      "14     0.0  \n",
      "15     0.0  \n",
      "16     0.0  \n",
      "17     0.0  \n",
      "18   35.46  \n",
      "19     0.0  \n",
      "20   51.45  \n",
      "21   35.96  \n",
      "22     0.0  \n",
      "23     0.0  \n",
      "24   68.53  \n",
      "25     0.0  \n"
     ]
    }
   ],
   "source": [
    "df = pd.DataFrame(rows, columns=colname)\n",
    "print(df)"
   ]
  },
  {
   "cell_type": "code",
   "execution_count": null,
   "id": "bd2bea9a-e533-4dc0-a780-327683f69c02",
   "metadata": {},
   "outputs": [],
   "source": []
  },
  {
   "cell_type": "code",
   "execution_count": null,
   "id": "5b32ac9a-8389-44d6-819a-f27efe8ad363",
   "metadata": {},
   "outputs": [],
   "source": []
  }
 ],
 "metadata": {
  "kernelspec": {
   "display_name": "Python 3 (ipykernel)",
   "language": "python",
   "name": "python3"
  },
  "language_info": {
   "codemirror_mode": {
    "name": "ipython",
    "version": 3
   },
   "file_extension": ".py",
   "mimetype": "text/x-python",
   "name": "python",
   "nbconvert_exporter": "python",
   "pygments_lexer": "ipython3",
   "version": "3.9.7"
  }
 },
 "nbformat": 4,
 "nbformat_minor": 5
}
